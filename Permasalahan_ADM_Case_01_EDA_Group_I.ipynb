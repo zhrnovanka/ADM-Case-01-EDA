{
  "cells": [
    {
      "cell_type": "markdown",
      "metadata": {
        "id": "view-in-github",
        "colab_type": "text"
      },
      "source": [
        "<a href=\"https://colab.research.google.com/github/zhrnovanka/ADM-Case-01-EDA/blob/main/Permasalahan_ADM_Case_01_EDA_Group_I.ipynb\" target=\"_parent\"><img src=\"https://colab.research.google.com/assets/colab-badge.svg\" alt=\"Open In Colab\"/></a>"
      ]
    },
    {
      "cell_type": "markdown",
      "source": [
        "# KELOMPOK I:\n",
        "## 1. Zahra Novanka - 1806185834\n",
        "## 2. Hunaiva Kintan - 1906375695\n",
        "## 3. I Ketut Doni Damara - 1906299502\n",
        "## 4. Sanjung Maharani - 1906354210\n",
        "## 5. Vania Adisaputri - 1906296362"
      ],
      "metadata": {
        "id": "4_IDvrBSShTB"
      },
      "id": "4_IDvrBSShTB"
    },
    {
      "cell_type": "markdown",
      "id": "a6835ef2",
      "metadata": {
        "id": "a6835ef2"
      },
      "source": [
        "<center><h2><strong><font color=\"blue\">Study Case 01 - Data Mining dan Business Intelligence: EDA pada data property</font></strong></h2></center>\n",
        "\n",
        "<img alt=\"\" src=\"https://github.com/taufiksutanto/ADM-Case-01-EDA/blob/main/images/Ray-pink-Property-Case-Banner.jpg?raw=1\"/>"
      ]
    },
    {
      "cell_type": "markdown",
      "id": "8cbd8d70",
      "metadata": {
        "id": "8cbd8d70"
      },
      "source": [
        "# Kasus:\n",
        "\n",
        "* Anda adalah seorang Data Analyst yang bekerja di PT **Ray Pink Property Indonesia** (RPPI).\n",
        "* RPPI adalah perusahaan property yang berdiri sejak 11 tahun yang lalu.\n",
        "* RPPI memliki kantor cabang di 7 propinsi di Indonesia dan jumlahnya terus bertambah.\n",
        "* Valuasi RPPI tahun ini mencapai Rp 7 Trilyun, meningkat 7% dari tahun sebelumnya.\n",
        "* Bidang usaha RPPI adalah investasi dan jual-beli property secara umum, termasuk bekerja sama dengan developer perumahan.\n",
        "* Data Engineer (DE)/Database Administrator (DBA) RPPI berhasil mengumpulkan data rumah-rumah yang dijual di beberapa kota di Indonesia.\n",
        "* Sebagai Data Analyst anda akan hadir dan melakukan presentasi pada rapat direksi untuk memberikan insight dari data ke upper management (C-Level, senior managers, dan komisaris perusahaan).\n",
        "* Di studi kasus ini anda mempersiapkan \"bahan presentasi\" dengan cara melakukan EDA pada data yang diterima dari DE/DBA."
      ]
    },
    {
      "cell_type": "markdown",
      "id": "0c3cb380",
      "metadata": {
        "id": "0c3cb380"
      },
      "source": [
        "# Petunjuk:\n",
        "\n",
        "Di studi kasus pertama, anda mendapat bantuan keterangan dari manajemen. Setelah berdiskusi *over lunch* dengan beberapa manager senior, anda mendengar bahwa mereka ingin mengetahui:\n",
        "\n",
        "1. Kualitas data yang dimiliki perusahaan.\n",
        "2. Apakah ada saran perbaikan data ke DE/DBA perusahaan agar RPPI menjadi *data driven company* yang unggul.\n",
        "3. Dari data yang ada, apakah ada kecenderungan rumah disuatu kota lebih mahal/murah dibandingkan kota lain?\n",
        "4. Dari data yang ada, apakah bisa dibuat rekomendasi sebaiknya RPPI membuat kantor cabang berikutnya di kota mana? Mengapa? (Asumsikan RPPI belum memiliki cabang di kota-kota yang disebutkan di data).\n",
        "5. Rumah dengan karakteristik seperti apa yang paling banyak dijual?\n",
        "6. Jika RPPI ingin melakukan investasi (max) Rp. 25 Milyar minggu besok, apakah dari data anda dapat memberikan rekomendasi rumah mana saja yang akan berpotensi menghasilkan keuntungan bagi perusahaan?\n",
        "7. Dan yang terpenting, informasi berharga apa lagi yang bisa anda dapatkan dari data?"
      ]
    },
    {
      "cell_type": "markdown",
      "id": "691c8ffc",
      "metadata": {
        "id": "691c8ffc"
      },
      "source": [
        "# Catatan:\n",
        "\n",
        "* Anda diperbolehkan melakukan augmentasi data (menambah data eksternal).\n",
        "* Yakinkan menuliskan asumsi anda atas kesimpulan dan rekomendasi yang diberikan ke perusahaan.\n",
        "* Yakinkan kesimpulan dan rekomendasi ditujukan ke perusahaan (bukan dosen mata kuliah).\n",
        "* Anda boleh menggunakan software visualisasi apapun, misal excel, Ms Word, Photoshop, dsb.\n",
        "* Yakinkan file images dapat dibuka (nampak) saat ipynb di Jupyter notebook anda dibuka di Google Colab.\n",
        " - Tips: hati-hati dalam melakukan penamaan file, Google colab case sensitive.\n",
        "* Interpretasi diberikan menggunakan cell markdown tepat dibawah output code yang relevan diatasnya.\n",
        "* Anda tidak diperkenankan bertanya pertanyaan yang:\n",
        " - Merupakan jawaban atau menjurus ke jawaban studi kasus.\n",
        " - Debugging - code error (anda diharapkan melakukan code troubleshooting sendiri via mesin pencari)\n",
        "* Pada studi kasus ini anda hanya diperkenankan untuk melakukan EDA (bukan modeling seperti prediksi/forecasting)"
      ]
    },
    {
      "cell_type": "markdown",
      "id": "848a2096",
      "metadata": {
        "id": "848a2096"
      },
      "source": [
        "# Komponen Penilaian:\n",
        "\n",
        "* Code tidak diubah sejak deadline studi kasus.\n",
        "* Code dapat di \"Run-All\" di Google Colab oleh dosen tanpa error.\n",
        "* Pemilihan preprocessing dan visualisasi yang tepat\n",
        "* Interpretasi dan rekomendasi dengan narasi dan kualitas yang baik, serta berdasarkan atas (pengolahan) data.\n",
        "* Kreativitas dan inovasi pengolahan data dan penyajian visualisasi."
      ]
    },
    {
      "cell_type": "markdown",
      "id": "e5a333c7",
      "metadata": {
        "id": "e5a333c7"
      },
      "source": [
        "# Data Understanding (DU):\n",
        "\n",
        "\n",
        "Keterangan Varabel:\n",
        "* Created_at: Tanggal dimana iklan rumah dibuat\n",
        "* LT\t\t: Luas Tanah properti yang ditawarkan\n",
        "* LB\t\t: Luas Bangunan properti yang ditawarkan\n",
        "* KT\t\t: Jumlah Kamar Tidur properti yang ditawarkan\n",
        "* KM\t\t: Jumlah Kamar Mandi properti yang ditawarkan\n",
        "* Garasi\t: Jumlah Kapasitas Garasi di properti yang ditawarkan\n",
        "* Carport\t: Jumlah kapasitas Carport di properti yang ditawarkan\n",
        "* Lokasi\t: Detail lokasi properti yang ditawarkan\n",
        "* Sertifikat: Jenis sertifikat properti yang ditawarkan\n",
        "* Listrik\t: Daya listrik dari properti yang ditawarkan\n",
        "* Hadap\t\t: Keterangan property yang ditawarkan menghadap ke arah mana\n",
        "* Harga \t: Harga property yang ditawarkan dalam Rupiah\n",
        "* URL\t\t: Alamat tautan (link) property yang ditawarkan.\n",
        "* Deskripsi\t: Deskripsi iklan property yang ditawarkan."
      ]
    },
    {
      "cell_type": "markdown",
      "source": [
        "# **1. KUALITAS DATA PERUSAHAAN**"
      ],
      "metadata": {
        "id": "VTLDG8iITMs7"
      },
      "id": "VTLDG8iITMs7"
    },
    {
      "cell_type": "code",
      "source": [
        "#Loading Data.\n",
        "import pandas as pd\n",
        "urlJ = 'https://raw.githubusercontent.com/taufiksutanto/ADM-Case-01-EDA/master/data/jakarta.csv'\n",
        "urlD = 'https://raw.githubusercontent.com/taufiksutanto/ADM-Case-01-EDA/master/data/depok.csv'\n",
        "urlB = 'https://raw.githubusercontent.com/taufiksutanto/ADM-Case-01-EDA/master/data/bogor.csv'\n",
        "urlT = 'https://raw.githubusercontent.com/taufiksutanto/ADM-Case-01-EDA/master/data/tangerang.csv'\n",
        "urlX = 'https://raw.githubusercontent.com/taufiksutanto/ADM-Case-01-EDA/master/data/bekasi.csv'\n",
        "\n",
        "dfJ = pd.read_csv(urlJ)\n",
        "dfD = pd.read_csv(urlD)\n",
        "dfB = pd.read_csv(urlB)\n",
        "dfT = pd.read_csv(urlT)\n",
        "dfX = pd.read_csv(urlX)\n",
        "\n",
        "print(dfJ.shape, dfD.shape, dfB.shape, dfT.shape, dfX.shape)"
      ],
      "metadata": {
        "id": "mB2hhiMo_mdx",
        "outputId": "080410a3-6016-4999-c65b-1cb0db1b8fa6",
        "colab": {
          "base_uri": "https://localhost:8080/"
        }
      },
      "id": "mB2hhiMo_mdx",
      "execution_count": null,
      "outputs": [
        {
          "output_type": "stream",
          "name": "stdout",
          "text": [
            "(1024, 26) (998, 26) (999, 26) (128, 26) (992, 26)\n"
          ]
        }
      ]
    },
    {
      "cell_type": "code",
      "source": [
        "#Drop Data unwanted.\n",
        "#Digunakan Drop Data untuk menghapus data yang mengandung missing value pada data ataupun menghapus variabel yang memiliki banyak missing value.\n",
        "\n",
        "dfJ.drop(dfJ.columns[14:26], axis=1, inplace=True)\n",
        "dfD.drop(dfD.columns[14:26], axis=1, inplace=True)\n",
        "dfB.drop(dfB.columns[14:26], axis=1, inplace=True)\n",
        "dfT.drop(dfT.columns[14:26], axis=1, inplace=True)\n",
        "dfX.drop(dfX.columns[14:26], axis=1, inplace=True)\n",
        "\n",
        "print(dfJ.shape, dfD.shape, dfB.shape, dfT.shape, dfX.shape)"
      ],
      "metadata": {
        "id": "QKXgEASiDjjh",
        "colab": {
          "base_uri": "https://localhost:8080/"
        },
        "outputId": "175b9b04-1dbc-49d4-a710-2d3557108e22"
      },
      "id": "QKXgEASiDjjh",
      "execution_count": null,
      "outputs": [
        {
          "output_type": "stream",
          "name": "stdout",
          "text": [
            "(1024, 14) (998, 14) (999, 14) (128, 14) (992, 14)\n"
          ]
        }
      ]
    },
    {
      "cell_type": "code",
      "source": [
        "dfD.drop(120, axis=0, inplace=True)\n",
        "dfD.drop(121, axis=0, inplace=True)"
      ],
      "metadata": {
        "id": "Rn3ggBlZdor_"
      },
      "id": "Rn3ggBlZdor_",
      "execution_count": null,
      "outputs": []
    },
    {
      "cell_type": "code",
      "source": [
        "dfJ['LT'].fillna(dfJ['LT'].median(),inplace = True)\n",
        "dfJ['LB'].fillna(dfJ['LB'].median(),inplace = True)\n",
        "dfJ['KT'].fillna(dfJ['KT'].median(),inplace = True)\n",
        "dfJ['KM'].fillna(dfJ['KM'].median(),inplace = True)\n",
        "dfJ['garasi'].fillna(dfJ['garasi'].median(),inplace = True)\n",
        "dfJ['carport'].fillna(dfJ['carport'].median(),inplace = True)\n",
        "dfJ['listrik'].fillna(dfJ['listrik'].mean(),inplace = True)\n",
        "dfJ['harga'].fillna(dfJ['harga'].mean(),inplace = True)\n",
        "\n",
        "dfD['LT'].fillna(dfD['LT'].median(),inplace = True)\n",
        "dfD['LB'].fillna(dfD['LB'].median(),inplace = True)\n",
        "dfD['KT'].fillna(dfD['KT'].median(),inplace = True)\n",
        "dfD['KM'].fillna(dfD['KM'].median(),inplace = True)\n",
        "dfD['garasi'].fillna(dfD['garasi'].median(),inplace = True)\n",
        "dfD['carport'].fillna(dfD['carport'].median(),inplace = True)\n",
        "dfD['listrik'].fillna(dfD['listrik'].mean(),inplace = True)\n",
        "dfD['harga'].fillna(dfD['harga'].mean(),inplace = True)\n",
        "\n",
        "dfB['LT'].fillna(dfB['LT'].median(),inplace = True)\n",
        "dfB['LB'].fillna(dfB['LB'].median(),inplace = True)\n",
        "dfB['KT'].fillna(dfB['KT'].median(),inplace = True)\n",
        "dfB['KM'].fillna(dfB['KM'].median(),inplace = True)\n",
        "dfB['garasi'].fillna(dfB['garasi'].median(),inplace = True)\n",
        "dfB['carport'].fillna(dfB['carport'].median(),inplace = True)\n",
        "dfB['listrik'].fillna(dfB['listrik'].mean(),inplace = True)\n",
        "dfB['harga'].fillna(dfB['harga'].mean(),inplace = True)\n",
        "\n",
        "dfT['LT'].fillna(dfT['LT'].median(),inplace = True)\n",
        "dfT['LB'].fillna(dfT['LB'].median(),inplace = True)\n",
        "dfT['KT'].fillna(dfT['KT'].median(),inplace = True)\n",
        "dfT['KM'].fillna(dfT['KM'].median(),inplace = True)\n",
        "dfT['garasi'].fillna(dfT['garasi'].median(),inplace = True)\n",
        "dfT['carport'].fillna(dfT['carport'].median(),inplace = True)\n",
        "dfT['listrik'].fillna(dfT['listrik'].mean(),inplace = True)\n",
        "dfT['harga'].fillna(dfT['harga'].mean(),inplace = True)\n",
        "\n",
        "dfX['LT'].fillna(dfX['LT'].median(),inplace = True)\n",
        "dfX['LB'].fillna(dfX['LB'].median(),inplace = True)\n",
        "dfX['KT'].fillna(dfX['KT'].median(),inplace = True)\n",
        "dfX['KM'].fillna(dfX['KM'].median(),inplace = True)\n",
        "dfX['garasi'].fillna(dfX['garasi'].median(),inplace = True)\n",
        "dfX['carport'].fillna(dfX['carport'].median(),inplace = True)\n",
        "dfX['listrik'].fillna(dfX['listrik'].mean(),inplace = True)\n",
        "dfX['harga'].fillna(dfX['harga'].mean(),inplace = True)"
      ],
      "metadata": {
        "id": "fK9r7Hq5dpBY"
      },
      "id": "fK9r7Hq5dpBY",
      "execution_count": null,
      "outputs": []
    },
    {
      "cell_type": "code",
      "source": [
        "#Menambahkan kolom keterangan kota pada tiap data frame\n",
        "\n",
        "dfJ = dfJ.assign(Kota = \"Jakarta\")\n",
        "dfD = dfD.assign(Kota = \"Depok\")\n",
        "dfB = dfB.assign(Kota = \"Bogor\")\n",
        "dfT = dfT.assign(Kota = \"Tangerang\")\n",
        "dfX = dfX.assign(Kota = \"Bekasi\")"
      ],
      "metadata": {
        "id": "CmCEXK3tNHBU"
      },
      "id": "CmCEXK3tNHBU",
      "execution_count": null,
      "outputs": []
    },
    {
      "cell_type": "code",
      "source": [
        "#Concate semua dataframe\n",
        "#Menggabungkan seluruh dataset \n",
        "\n",
        "frames = [dfJ, dfD, dfB, dfT, dfX]\n",
        "df = pd.concat(frames, axis=0, ignore_index=True)\n",
        "\n",
        "df.shape\n",
        "df"
      ],
      "metadata": {
        "colab": {
          "base_uri": "https://localhost:8080/",
          "height": 641
        },
        "id": "za5K8wyOOWZW",
        "outputId": "62fcef33-0a67-4232-f1a4-99c8672ebad7"
      },
      "id": "za5K8wyOOWZW",
      "execution_count": null,
      "outputs": [
        {
          "output_type": "execute_result",
          "data": {
            "text/plain": [
              "      created_at     LT     LB   KT   KM  garasi  carport         lokasi  \\\n",
              "0     06-12-2021  202.0  198.0  8.0  3.0     1.0      2.0  Jakarta Pusat   \n",
              "1     02-12-2021   30.0   55.0  2.0  1.0     1.0      1.0  Jakarta Pusat   \n",
              "2     06-12-2021   19.0   35.0  2.0  1.0     1.0      2.0  Jakarta Pusat   \n",
              "3     06-12-2021   33.0   42.0  2.0  2.0     1.0      1.0  Jakarta Pusat   \n",
              "4     06-12-2021   30.0   55.0  2.0  2.0     1.0      1.0  Jakarta Pusat   \n",
              "...          ...    ...    ...  ...  ...     ...      ...            ...   \n",
              "4134         NaN   91.0   90.0  3.0  2.0     1.0      1.0            NaN   \n",
              "4135         NaN   91.0   90.0  3.0  2.0     1.0      1.0            NaN   \n",
              "4136         NaN   91.0   90.0  3.0  2.0     1.0      1.0            NaN   \n",
              "4137         NaN   91.0   90.0  3.0  2.0     1.0      1.0            NaN   \n",
              "4138         NaN   91.0   90.0  3.0  2.0     1.0      1.0            NaN   \n",
              "\n",
              "     sertifikat      listrik hadap         harga  \\\n",
              "0           SHM  2200.000000   NaN  4.500000e+09   \n",
              "1           SHM  2200.000000   NaN  1.100000e+09   \n",
              "2           SHM  2200.000000   NaN  3.950000e+08   \n",
              "3           SHM  2200.000000   NaN  8.350000e+08   \n",
              "4           SHM  2200.000000   NaN  1.100000e+09   \n",
              "...         ...          ...   ...           ...   \n",
              "4134        NaN  2056.435644   NaN  1.074823e+09   \n",
              "4135        NaN  2056.435644   NaN  1.074823e+09   \n",
              "4136        NaN  2056.435644   NaN  1.074823e+09   \n",
              "4137        NaN  2056.435644   NaN  1.074823e+09   \n",
              "4138        NaN  2056.435644   NaN  1.074823e+09   \n",
              "\n",
              "                                                    URL  \\\n",
              "0     https://www.rumah.com/listing-properti/dijual-...   \n",
              "1     https://www.rumah.com/listing-properti/dijual-...   \n",
              "2     https://www.rumah.com/listing-properti/dijual-...   \n",
              "3     https://www.rumah.com/listing-properti/dijual-...   \n",
              "4     https://www.rumah.com/listing-properti/dijual-...   \n",
              "...                                                 ...   \n",
              "4134                                                NaN   \n",
              "4135                                                NaN   \n",
              "4136                                                NaN   \n",
              "4137                                                NaN   \n",
              "4138                                                NaN   \n",
              "\n",
              "                                              deskripsi     Kota  \n",
              "0     Dekat Cikini Salemba Taman Isamail Marzuki Kam...  Jakarta  \n",
              "1     Mengusung konsep minimalis, dan didukung denga...  Jakarta  \n",
              "2     Dekat dengan Mall Atrium Senen, dekat dengan a...  Jakarta  \n",
              "3     Berlokasi sangat strategis, sangat dekat ke Tu...  Jakarta  \n",
              "4     Bisa request ubah tata ruang, beli 2 unit mend...  Jakarta  \n",
              "...                                                 ...      ...  \n",
              "4134                                                NaN   Bekasi  \n",
              "4135                                                NaN   Bekasi  \n",
              "4136                                                NaN   Bekasi  \n",
              "4137                                                NaN   Bekasi  \n",
              "4138                                                NaN   Bekasi  \n",
              "\n",
              "[4139 rows x 15 columns]"
            ],
            "text/html": [
              "\n",
              "  <div id=\"df-d7c3fd07-b102-4bc3-a02e-4e21e195e449\">\n",
              "    <div class=\"colab-df-container\">\n",
              "      <div>\n",
              "<style scoped>\n",
              "    .dataframe tbody tr th:only-of-type {\n",
              "        vertical-align: middle;\n",
              "    }\n",
              "\n",
              "    .dataframe tbody tr th {\n",
              "        vertical-align: top;\n",
              "    }\n",
              "\n",
              "    .dataframe thead th {\n",
              "        text-align: right;\n",
              "    }\n",
              "</style>\n",
              "<table border=\"1\" class=\"dataframe\">\n",
              "  <thead>\n",
              "    <tr style=\"text-align: right;\">\n",
              "      <th></th>\n",
              "      <th>created_at</th>\n",
              "      <th>LT</th>\n",
              "      <th>LB</th>\n",
              "      <th>KT</th>\n",
              "      <th>KM</th>\n",
              "      <th>garasi</th>\n",
              "      <th>carport</th>\n",
              "      <th>lokasi</th>\n",
              "      <th>sertifikat</th>\n",
              "      <th>listrik</th>\n",
              "      <th>hadap</th>\n",
              "      <th>harga</th>\n",
              "      <th>URL</th>\n",
              "      <th>deskripsi</th>\n",
              "      <th>Kota</th>\n",
              "    </tr>\n",
              "  </thead>\n",
              "  <tbody>\n",
              "    <tr>\n",
              "      <th>0</th>\n",
              "      <td>06-12-2021</td>\n",
              "      <td>202.0</td>\n",
              "      <td>198.0</td>\n",
              "      <td>8.0</td>\n",
              "      <td>3.0</td>\n",
              "      <td>1.0</td>\n",
              "      <td>2.0</td>\n",
              "      <td>Jakarta Pusat</td>\n",
              "      <td>SHM</td>\n",
              "      <td>2200.000000</td>\n",
              "      <td>NaN</td>\n",
              "      <td>4.500000e+09</td>\n",
              "      <td>https://www.rumah.com/listing-properti/dijual-...</td>\n",
              "      <td>Dekat Cikini Salemba Taman Isamail Marzuki Kam...</td>\n",
              "      <td>Jakarta</td>\n",
              "    </tr>\n",
              "    <tr>\n",
              "      <th>1</th>\n",
              "      <td>02-12-2021</td>\n",
              "      <td>30.0</td>\n",
              "      <td>55.0</td>\n",
              "      <td>2.0</td>\n",
              "      <td>1.0</td>\n",
              "      <td>1.0</td>\n",
              "      <td>1.0</td>\n",
              "      <td>Jakarta Pusat</td>\n",
              "      <td>SHM</td>\n",
              "      <td>2200.000000</td>\n",
              "      <td>NaN</td>\n",
              "      <td>1.100000e+09</td>\n",
              "      <td>https://www.rumah.com/listing-properti/dijual-...</td>\n",
              "      <td>Mengusung konsep minimalis, dan didukung denga...</td>\n",
              "      <td>Jakarta</td>\n",
              "    </tr>\n",
              "    <tr>\n",
              "      <th>2</th>\n",
              "      <td>06-12-2021</td>\n",
              "      <td>19.0</td>\n",
              "      <td>35.0</td>\n",
              "      <td>2.0</td>\n",
              "      <td>1.0</td>\n",
              "      <td>1.0</td>\n",
              "      <td>2.0</td>\n",
              "      <td>Jakarta Pusat</td>\n",
              "      <td>SHM</td>\n",
              "      <td>2200.000000</td>\n",
              "      <td>NaN</td>\n",
              "      <td>3.950000e+08</td>\n",
              "      <td>https://www.rumah.com/listing-properti/dijual-...</td>\n",
              "      <td>Dekat dengan Mall Atrium Senen, dekat dengan a...</td>\n",
              "      <td>Jakarta</td>\n",
              "    </tr>\n",
              "    <tr>\n",
              "      <th>3</th>\n",
              "      <td>06-12-2021</td>\n",
              "      <td>33.0</td>\n",
              "      <td>42.0</td>\n",
              "      <td>2.0</td>\n",
              "      <td>2.0</td>\n",
              "      <td>1.0</td>\n",
              "      <td>1.0</td>\n",
              "      <td>Jakarta Pusat</td>\n",
              "      <td>SHM</td>\n",
              "      <td>2200.000000</td>\n",
              "      <td>NaN</td>\n",
              "      <td>8.350000e+08</td>\n",
              "      <td>https://www.rumah.com/listing-properti/dijual-...</td>\n",
              "      <td>Berlokasi sangat strategis, sangat dekat ke Tu...</td>\n",
              "      <td>Jakarta</td>\n",
              "    </tr>\n",
              "    <tr>\n",
              "      <th>4</th>\n",
              "      <td>06-12-2021</td>\n",
              "      <td>30.0</td>\n",
              "      <td>55.0</td>\n",
              "      <td>2.0</td>\n",
              "      <td>2.0</td>\n",
              "      <td>1.0</td>\n",
              "      <td>1.0</td>\n",
              "      <td>Jakarta Pusat</td>\n",
              "      <td>SHM</td>\n",
              "      <td>2200.000000</td>\n",
              "      <td>NaN</td>\n",
              "      <td>1.100000e+09</td>\n",
              "      <td>https://www.rumah.com/listing-properti/dijual-...</td>\n",
              "      <td>Bisa request ubah tata ruang, beli 2 unit mend...</td>\n",
              "      <td>Jakarta</td>\n",
              "    </tr>\n",
              "    <tr>\n",
              "      <th>...</th>\n",
              "      <td>...</td>\n",
              "      <td>...</td>\n",
              "      <td>...</td>\n",
              "      <td>...</td>\n",
              "      <td>...</td>\n",
              "      <td>...</td>\n",
              "      <td>...</td>\n",
              "      <td>...</td>\n",
              "      <td>...</td>\n",
              "      <td>...</td>\n",
              "      <td>...</td>\n",
              "      <td>...</td>\n",
              "      <td>...</td>\n",
              "      <td>...</td>\n",
              "      <td>...</td>\n",
              "    </tr>\n",
              "    <tr>\n",
              "      <th>4134</th>\n",
              "      <td>NaN</td>\n",
              "      <td>91.0</td>\n",
              "      <td>90.0</td>\n",
              "      <td>3.0</td>\n",
              "      <td>2.0</td>\n",
              "      <td>1.0</td>\n",
              "      <td>1.0</td>\n",
              "      <td>NaN</td>\n",
              "      <td>NaN</td>\n",
              "      <td>2056.435644</td>\n",
              "      <td>NaN</td>\n",
              "      <td>1.074823e+09</td>\n",
              "      <td>NaN</td>\n",
              "      <td>NaN</td>\n",
              "      <td>Bekasi</td>\n",
              "    </tr>\n",
              "    <tr>\n",
              "      <th>4135</th>\n",
              "      <td>NaN</td>\n",
              "      <td>91.0</td>\n",
              "      <td>90.0</td>\n",
              "      <td>3.0</td>\n",
              "      <td>2.0</td>\n",
              "      <td>1.0</td>\n",
              "      <td>1.0</td>\n",
              "      <td>NaN</td>\n",
              "      <td>NaN</td>\n",
              "      <td>2056.435644</td>\n",
              "      <td>NaN</td>\n",
              "      <td>1.074823e+09</td>\n",
              "      <td>NaN</td>\n",
              "      <td>NaN</td>\n",
              "      <td>Bekasi</td>\n",
              "    </tr>\n",
              "    <tr>\n",
              "      <th>4136</th>\n",
              "      <td>NaN</td>\n",
              "      <td>91.0</td>\n",
              "      <td>90.0</td>\n",
              "      <td>3.0</td>\n",
              "      <td>2.0</td>\n",
              "      <td>1.0</td>\n",
              "      <td>1.0</td>\n",
              "      <td>NaN</td>\n",
              "      <td>NaN</td>\n",
              "      <td>2056.435644</td>\n",
              "      <td>NaN</td>\n",
              "      <td>1.074823e+09</td>\n",
              "      <td>NaN</td>\n",
              "      <td>NaN</td>\n",
              "      <td>Bekasi</td>\n",
              "    </tr>\n",
              "    <tr>\n",
              "      <th>4137</th>\n",
              "      <td>NaN</td>\n",
              "      <td>91.0</td>\n",
              "      <td>90.0</td>\n",
              "      <td>3.0</td>\n",
              "      <td>2.0</td>\n",
              "      <td>1.0</td>\n",
              "      <td>1.0</td>\n",
              "      <td>NaN</td>\n",
              "      <td>NaN</td>\n",
              "      <td>2056.435644</td>\n",
              "      <td>NaN</td>\n",
              "      <td>1.074823e+09</td>\n",
              "      <td>NaN</td>\n",
              "      <td>NaN</td>\n",
              "      <td>Bekasi</td>\n",
              "    </tr>\n",
              "    <tr>\n",
              "      <th>4138</th>\n",
              "      <td>NaN</td>\n",
              "      <td>91.0</td>\n",
              "      <td>90.0</td>\n",
              "      <td>3.0</td>\n",
              "      <td>2.0</td>\n",
              "      <td>1.0</td>\n",
              "      <td>1.0</td>\n",
              "      <td>NaN</td>\n",
              "      <td>NaN</td>\n",
              "      <td>2056.435644</td>\n",
              "      <td>NaN</td>\n",
              "      <td>1.074823e+09</td>\n",
              "      <td>NaN</td>\n",
              "      <td>NaN</td>\n",
              "      <td>Bekasi</td>\n",
              "    </tr>\n",
              "  </tbody>\n",
              "</table>\n",
              "<p>4139 rows × 15 columns</p>\n",
              "</div>\n",
              "      <button class=\"colab-df-convert\" onclick=\"convertToInteractive('df-d7c3fd07-b102-4bc3-a02e-4e21e195e449')\"\n",
              "              title=\"Convert this dataframe to an interactive table.\"\n",
              "              style=\"display:none;\">\n",
              "        \n",
              "  <svg xmlns=\"http://www.w3.org/2000/svg\" height=\"24px\"viewBox=\"0 0 24 24\"\n",
              "       width=\"24px\">\n",
              "    <path d=\"M0 0h24v24H0V0z\" fill=\"none\"/>\n",
              "    <path d=\"M18.56 5.44l.94 2.06.94-2.06 2.06-.94-2.06-.94-.94-2.06-.94 2.06-2.06.94zm-11 1L8.5 8.5l.94-2.06 2.06-.94-2.06-.94L8.5 2.5l-.94 2.06-2.06.94zm10 10l.94 2.06.94-2.06 2.06-.94-2.06-.94-.94-2.06-.94 2.06-2.06.94z\"/><path d=\"M17.41 7.96l-1.37-1.37c-.4-.4-.92-.59-1.43-.59-.52 0-1.04.2-1.43.59L10.3 9.45l-7.72 7.72c-.78.78-.78 2.05 0 2.83L4 21.41c.39.39.9.59 1.41.59.51 0 1.02-.2 1.41-.59l7.78-7.78 2.81-2.81c.8-.78.8-2.07 0-2.86zM5.41 20L4 18.59l7.72-7.72 1.47 1.35L5.41 20z\"/>\n",
              "  </svg>\n",
              "      </button>\n",
              "      \n",
              "  <style>\n",
              "    .colab-df-container {\n",
              "      display:flex;\n",
              "      flex-wrap:wrap;\n",
              "      gap: 12px;\n",
              "    }\n",
              "\n",
              "    .colab-df-convert {\n",
              "      background-color: #E8F0FE;\n",
              "      border: none;\n",
              "      border-radius: 50%;\n",
              "      cursor: pointer;\n",
              "      display: none;\n",
              "      fill: #1967D2;\n",
              "      height: 32px;\n",
              "      padding: 0 0 0 0;\n",
              "      width: 32px;\n",
              "    }\n",
              "\n",
              "    .colab-df-convert:hover {\n",
              "      background-color: #E2EBFA;\n",
              "      box-shadow: 0px 1px 2px rgba(60, 64, 67, 0.3), 0px 1px 3px 1px rgba(60, 64, 67, 0.15);\n",
              "      fill: #174EA6;\n",
              "    }\n",
              "\n",
              "    [theme=dark] .colab-df-convert {\n",
              "      background-color: #3B4455;\n",
              "      fill: #D2E3FC;\n",
              "    }\n",
              "\n",
              "    [theme=dark] .colab-df-convert:hover {\n",
              "      background-color: #434B5C;\n",
              "      box-shadow: 0px 1px 3px 1px rgba(0, 0, 0, 0.15);\n",
              "      filter: drop-shadow(0px 1px 2px rgba(0, 0, 0, 0.3));\n",
              "      fill: #FFFFFF;\n",
              "    }\n",
              "  </style>\n",
              "\n",
              "      <script>\n",
              "        const buttonEl =\n",
              "          document.querySelector('#df-d7c3fd07-b102-4bc3-a02e-4e21e195e449 button.colab-df-convert');\n",
              "        buttonEl.style.display =\n",
              "          google.colab.kernel.accessAllowed ? 'block' : 'none';\n",
              "\n",
              "        async function convertToInteractive(key) {\n",
              "          const element = document.querySelector('#df-d7c3fd07-b102-4bc3-a02e-4e21e195e449');\n",
              "          const dataTable =\n",
              "            await google.colab.kernel.invokeFunction('convertToInteractive',\n",
              "                                                     [key], {});\n",
              "          if (!dataTable) return;\n",
              "\n",
              "          const docLinkHtml = 'Like what you see? Visit the ' +\n",
              "            '<a target=\"_blank\" href=https://colab.research.google.com/notebooks/data_table.ipynb>data table notebook</a>'\n",
              "            + ' to learn more about interactive tables.';\n",
              "          element.innerHTML = '';\n",
              "          dataTable['output_type'] = 'display_data';\n",
              "          await google.colab.output.renderOutput(dataTable, element);\n",
              "          const docLink = document.createElement('div');\n",
              "          docLink.innerHTML = docLinkHtml;\n",
              "          element.appendChild(docLink);\n",
              "        }\n",
              "      </script>\n",
              "    </div>\n",
              "  </div>\n",
              "  "
            ]
          },
          "metadata": {},
          "execution_count": 21
        }
      ]
    },
    {
      "cell_type": "code",
      "source": [
        "#Statistika Deskriptif\n",
        "df.describe()"
      ],
      "metadata": {
        "colab": {
          "base_uri": "https://localhost:8080/",
          "height": 300
        },
        "id": "Pg97qphceCqx",
        "outputId": "ea120605-0822-4a68-ad18-ffcbfcb0e2de"
      },
      "id": "Pg97qphceCqx",
      "execution_count": null,
      "outputs": [
        {
          "output_type": "execute_result",
          "data": {
            "text/plain": [
              "                LB           KT           KM       garasi      carport  \\\n",
              "count  4139.000000  4139.000000  4139.000000  4139.000000  4139.000000   \n",
              "mean    111.481276     3.048321     2.071998     0.813240     1.291375   \n",
              "std      97.594211     0.850090     0.850972     0.563647     0.572995   \n",
              "min      15.000000     1.000000     1.000000     0.000000     0.000000   \n",
              "25%      60.000000     2.000000     2.000000     1.000000     1.000000   \n",
              "50%      90.000000     3.000000     2.000000     1.000000     1.000000   \n",
              "75%     200.000000     4.000000     3.000000     1.000000     2.000000   \n",
              "max    2500.000000    10.000000    10.000000    10.000000    10.000000   \n",
              "\n",
              "            listrik         harga  \n",
              "count   4139.000000  4.139000e+03  \n",
              "mean    2975.456167  2.791959e+09  \n",
              "std     2291.748601  4.516068e+09  \n",
              "min      900.000000  4.100000e+01  \n",
              "25%     2056.435644  1.775000e+03  \n",
              "50%     2147.572816  1.074823e+09  \n",
              "75%     3500.000000  1.700000e+09  \n",
              "max    66000.000000  1.050000e+11  "
            ],
            "text/html": [
              "\n",
              "  <div id=\"df-4fa98442-9069-46cd-a034-9963bbbdaac9\">\n",
              "    <div class=\"colab-df-container\">\n",
              "      <div>\n",
              "<style scoped>\n",
              "    .dataframe tbody tr th:only-of-type {\n",
              "        vertical-align: middle;\n",
              "    }\n",
              "\n",
              "    .dataframe tbody tr th {\n",
              "        vertical-align: top;\n",
              "    }\n",
              "\n",
              "    .dataframe thead th {\n",
              "        text-align: right;\n",
              "    }\n",
              "</style>\n",
              "<table border=\"1\" class=\"dataframe\">\n",
              "  <thead>\n",
              "    <tr style=\"text-align: right;\">\n",
              "      <th></th>\n",
              "      <th>LB</th>\n",
              "      <th>KT</th>\n",
              "      <th>KM</th>\n",
              "      <th>garasi</th>\n",
              "      <th>carport</th>\n",
              "      <th>listrik</th>\n",
              "      <th>harga</th>\n",
              "    </tr>\n",
              "  </thead>\n",
              "  <tbody>\n",
              "    <tr>\n",
              "      <th>count</th>\n",
              "      <td>4139.000000</td>\n",
              "      <td>4139.000000</td>\n",
              "      <td>4139.000000</td>\n",
              "      <td>4139.000000</td>\n",
              "      <td>4139.000000</td>\n",
              "      <td>4139.000000</td>\n",
              "      <td>4.139000e+03</td>\n",
              "    </tr>\n",
              "    <tr>\n",
              "      <th>mean</th>\n",
              "      <td>111.481276</td>\n",
              "      <td>3.048321</td>\n",
              "      <td>2.071998</td>\n",
              "      <td>0.813240</td>\n",
              "      <td>1.291375</td>\n",
              "      <td>2975.456167</td>\n",
              "      <td>2.791959e+09</td>\n",
              "    </tr>\n",
              "    <tr>\n",
              "      <th>std</th>\n",
              "      <td>97.594211</td>\n",
              "      <td>0.850090</td>\n",
              "      <td>0.850972</td>\n",
              "      <td>0.563647</td>\n",
              "      <td>0.572995</td>\n",
              "      <td>2291.748601</td>\n",
              "      <td>4.516068e+09</td>\n",
              "    </tr>\n",
              "    <tr>\n",
              "      <th>min</th>\n",
              "      <td>15.000000</td>\n",
              "      <td>1.000000</td>\n",
              "      <td>1.000000</td>\n",
              "      <td>0.000000</td>\n",
              "      <td>0.000000</td>\n",
              "      <td>900.000000</td>\n",
              "      <td>4.100000e+01</td>\n",
              "    </tr>\n",
              "    <tr>\n",
              "      <th>25%</th>\n",
              "      <td>60.000000</td>\n",
              "      <td>2.000000</td>\n",
              "      <td>2.000000</td>\n",
              "      <td>1.000000</td>\n",
              "      <td>1.000000</td>\n",
              "      <td>2056.435644</td>\n",
              "      <td>1.775000e+03</td>\n",
              "    </tr>\n",
              "    <tr>\n",
              "      <th>50%</th>\n",
              "      <td>90.000000</td>\n",
              "      <td>3.000000</td>\n",
              "      <td>2.000000</td>\n",
              "      <td>1.000000</td>\n",
              "      <td>1.000000</td>\n",
              "      <td>2147.572816</td>\n",
              "      <td>1.074823e+09</td>\n",
              "    </tr>\n",
              "    <tr>\n",
              "      <th>75%</th>\n",
              "      <td>200.000000</td>\n",
              "      <td>4.000000</td>\n",
              "      <td>3.000000</td>\n",
              "      <td>1.000000</td>\n",
              "      <td>2.000000</td>\n",
              "      <td>3500.000000</td>\n",
              "      <td>1.700000e+09</td>\n",
              "    </tr>\n",
              "    <tr>\n",
              "      <th>max</th>\n",
              "      <td>2500.000000</td>\n",
              "      <td>10.000000</td>\n",
              "      <td>10.000000</td>\n",
              "      <td>10.000000</td>\n",
              "      <td>10.000000</td>\n",
              "      <td>66000.000000</td>\n",
              "      <td>1.050000e+11</td>\n",
              "    </tr>\n",
              "  </tbody>\n",
              "</table>\n",
              "</div>\n",
              "      <button class=\"colab-df-convert\" onclick=\"convertToInteractive('df-4fa98442-9069-46cd-a034-9963bbbdaac9')\"\n",
              "              title=\"Convert this dataframe to an interactive table.\"\n",
              "              style=\"display:none;\">\n",
              "        \n",
              "  <svg xmlns=\"http://www.w3.org/2000/svg\" height=\"24px\"viewBox=\"0 0 24 24\"\n",
              "       width=\"24px\">\n",
              "    <path d=\"M0 0h24v24H0V0z\" fill=\"none\"/>\n",
              "    <path d=\"M18.56 5.44l.94 2.06.94-2.06 2.06-.94-2.06-.94-.94-2.06-.94 2.06-2.06.94zm-11 1L8.5 8.5l.94-2.06 2.06-.94-2.06-.94L8.5 2.5l-.94 2.06-2.06.94zm10 10l.94 2.06.94-2.06 2.06-.94-2.06-.94-.94-2.06-.94 2.06-2.06.94z\"/><path d=\"M17.41 7.96l-1.37-1.37c-.4-.4-.92-.59-1.43-.59-.52 0-1.04.2-1.43.59L10.3 9.45l-7.72 7.72c-.78.78-.78 2.05 0 2.83L4 21.41c.39.39.9.59 1.41.59.51 0 1.02-.2 1.41-.59l7.78-7.78 2.81-2.81c.8-.78.8-2.07 0-2.86zM5.41 20L4 18.59l7.72-7.72 1.47 1.35L5.41 20z\"/>\n",
              "  </svg>\n",
              "      </button>\n",
              "      \n",
              "  <style>\n",
              "    .colab-df-container {\n",
              "      display:flex;\n",
              "      flex-wrap:wrap;\n",
              "      gap: 12px;\n",
              "    }\n",
              "\n",
              "    .colab-df-convert {\n",
              "      background-color: #E8F0FE;\n",
              "      border: none;\n",
              "      border-radius: 50%;\n",
              "      cursor: pointer;\n",
              "      display: none;\n",
              "      fill: #1967D2;\n",
              "      height: 32px;\n",
              "      padding: 0 0 0 0;\n",
              "      width: 32px;\n",
              "    }\n",
              "\n",
              "    .colab-df-convert:hover {\n",
              "      background-color: #E2EBFA;\n",
              "      box-shadow: 0px 1px 2px rgba(60, 64, 67, 0.3), 0px 1px 3px 1px rgba(60, 64, 67, 0.15);\n",
              "      fill: #174EA6;\n",
              "    }\n",
              "\n",
              "    [theme=dark] .colab-df-convert {\n",
              "      background-color: #3B4455;\n",
              "      fill: #D2E3FC;\n",
              "    }\n",
              "\n",
              "    [theme=dark] .colab-df-convert:hover {\n",
              "      background-color: #434B5C;\n",
              "      box-shadow: 0px 1px 3px 1px rgba(0, 0, 0, 0.15);\n",
              "      filter: drop-shadow(0px 1px 2px rgba(0, 0, 0, 0.3));\n",
              "      fill: #FFFFFF;\n",
              "    }\n",
              "  </style>\n",
              "\n",
              "      <script>\n",
              "        const buttonEl =\n",
              "          document.querySelector('#df-4fa98442-9069-46cd-a034-9963bbbdaac9 button.colab-df-convert');\n",
              "        buttonEl.style.display =\n",
              "          google.colab.kernel.accessAllowed ? 'block' : 'none';\n",
              "\n",
              "        async function convertToInteractive(key) {\n",
              "          const element = document.querySelector('#df-4fa98442-9069-46cd-a034-9963bbbdaac9');\n",
              "          const dataTable =\n",
              "            await google.colab.kernel.invokeFunction('convertToInteractive',\n",
              "                                                     [key], {});\n",
              "          if (!dataTable) return;\n",
              "\n",
              "          const docLinkHtml = 'Like what you see? Visit the ' +\n",
              "            '<a target=\"_blank\" href=https://colab.research.google.com/notebooks/data_table.ipynb>data table notebook</a>'\n",
              "            + ' to learn more about interactive tables.';\n",
              "          element.innerHTML = '';\n",
              "          dataTable['output_type'] = 'display_data';\n",
              "          await google.colab.output.renderOutput(dataTable, element);\n",
              "          const docLink = document.createElement('div');\n",
              "          docLink.innerHTML = docLinkHtml;\n",
              "          element.appendChild(docLink);\n",
              "        }\n",
              "      </script>\n",
              "    </div>\n",
              "  </div>\n",
              "  "
            ]
          },
          "metadata": {},
          "execution_count": 22
        }
      ]
    },
    {
      "cell_type": "code",
      "source": [
        "import seaborn as sns\n",
        "\n",
        "p= sns.catplot(x=\"Kota\", y=\"harga\", data=df)\n"
      ],
      "metadata": {
        "colab": {
          "base_uri": "https://localhost:8080/",
          "height": 369
        },
        "id": "dl96CvoifLx9",
        "outputId": "4434f9d2-ac37-4955-b9b8-21ec8f309e50"
      },
      "id": "dl96CvoifLx9",
      "execution_count": null,
      "outputs": [
        {
          "output_type": "display_data",
          "data": {
            "text/plain": [
              "<Figure size 360x360 with 1 Axes>"
            ],
            "image/png": "[encoded data removed]"
          },
          "metadata": {
            "needs_background": "light"
          }
        }
      ]
    },
    {
      "cell_type": "markdown",
      "source": [
        "Kesimpulan Kualitas Data Perusahaan *Ray Pink Property*  yaitu data yang dimiliki oleh perusahaan sudah lengkap dan sangat akurat sehingga sudah mengandung informasi yang dapat diolah. Dan juga data yang digunakan oleh perusahaan merupakan data terstruktur.\n",
        "\n",
        "Kekurangan dari data perusahaan ini adalah masih terdapat banyak data yang tidak terdefinisi dengan baik atau data yang kosong."
      ],
      "metadata": {
        "id": "Hbf8wYU4Twgk"
      },
      "id": "Hbf8wYU4Twgk"
    },
    {
      "cell_type": "markdown",
      "source": [
        "# **2. SARAN PERBAIKAN DATA**"
      ],
      "metadata": {
        "id": "-6IDO979XeK6"
      },
      "id": "-6IDO979XeK6"
    },
    {
      "cell_type": "markdown",
      "source": [
        "Saran perbaikan data dari data perusahaan *Ray Pink Property* yaitu data yang akan diolah harus dibersihkan terlebih dahulu agar data langsung dapat di analisis dan bukan merupakan data *unnamed*. Sebaiknya lebih memperhatikan juga ketepatan, kelengkapan, keanladan, relevansi, ketepatan waktu dari data yang akan di analisa."
      ],
      "metadata": {
        "id": "uNCfvHflYHyo"
      },
      "id": "uNCfvHflYHyo"
    },
    {
      "cell_type": "markdown",
      "source": [
        "# **3. KECENDERUNGAN HARGA SUATU RUMAH**"
      ],
      "metadata": {
        "id": "OMURoJ1Eacqz"
      },
      "id": "OMURoJ1Eacqz"
    },
    {
      "cell_type": "markdown",
      "source": [
        "Kecenderungan harga di Kota Jakata lebih mahal dibandingkan dengan Kota Tangerang dan Depok.\n",
        "\n",
        "Hal ini dapat dilihat dari grafik yang telah dicantumkan.\n",
        "\n",
        "Sehingga saran kami untuk rumah pada Kota Tangerang atau Kota Depok masih cenderung lebih murah maka dapat menginvestasikan pada kota tersebut."
      ],
      "metadata": {
        "id": "0_fGoX_gauRb"
      },
      "id": "0_fGoX_gauRb"
    },
    {
      "cell_type": "markdown",
      "source": [
        "# **4. REKOMENDASI PEMBUATAN KANTOR CABANG BERIKUTNYA**"
      ],
      "metadata": {
        "id": "b6hyjXGQcPOY"
      },
      "id": "b6hyjXGQcPOY"
    },
    {
      "cell_type": "markdown",
      "source": [
        "# **5. KARAKTERISTIK RUMAH YANG PALING BANYAK DI JUAL**"
      ],
      "metadata": {
        "id": "Vc_M0eLvcg_s"
      },
      "id": "Vc_M0eLvcg_s"
    },
    {
      "cell_type": "markdown",
      "source": [
        "# **6. REKOMENDASI RUMAH YANG BERPOTENSI MENGHASILKAN KEUNTUNGAN BAGI PERUSAHAAN (INVEST MAX RP25MILYAR)**"
      ],
      "metadata": {
        "id": "fukPRBujdIEJ"
      },
      "id": "fukPRBujdIEJ"
    },
    {
      "cell_type": "markdown",
      "source": [
        "# **7. INFORMASI LAIN YANG DIDAPAT DARI DATA**"
      ],
      "metadata": {
        "id": "NsHzbPybdaGd"
      },
      "id": "NsHzbPybdaGd"
    }
  ],
  "metadata": {
    "kernelspec": {
      "display_name": "Python 3 (ipykernel)",
      "language": "python",
      "name": "python3"
    },
    "language_info": {
      "codemirror_mode": {
        "name": "ipython",
        "version": 3
      },
      "file_extension": ".py",
      "mimetype": "text/x-python",
      "name": "python",
      "nbconvert_exporter": "python",
      "pygments_lexer": "ipython3",
      "version": "3.7.13"
    },
    "colab": {
      "provenance": [],
      "collapsed_sections": [],
      "include_colab_link": true
    }
  },
  "nbformat": 4,
  "nbformat_minor": 5
}